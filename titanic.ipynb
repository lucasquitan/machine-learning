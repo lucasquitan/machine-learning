{
 "cells": [
  {
   "cell_type": "code",
   "execution_count": 52,
   "id": "cd3da36f",
   "metadata": {},
   "outputs": [],
   "source": [
    "#importar bibliotecas\n",
    "import pandas as pd\n",
    "import numpy as np\n",
    "from sklearn.linear_model import LogisticRegression\n",
    "from sklearn.tree import DecisionTreeClassifier\n",
    "from sklearn.naive_bayes import GaussianNB\n",
    "from sklearn.svm import SVC\n",
    "from sklearn.model_selection import  train_test_split\n",
    "from IPython.display import display\n",
    "import matplotlib.pyplot as plt\n",
    "%matplotlib inline"
   ]
  },
  {
   "cell_type": "code",
   "execution_count": 16,
   "id": "8f4b5d10",
   "metadata": {},
   "outputs": [
    {
     "data": {
      "text/html": [
       "<div>\n",
       "<style scoped>\n",
       "    .dataframe tbody tr th:only-of-type {\n",
       "        vertical-align: middle;\n",
       "    }\n",
       "\n",
       "    .dataframe tbody tr th {\n",
       "        vertical-align: top;\n",
       "    }\n",
       "\n",
       "    .dataframe thead th {\n",
       "        text-align: right;\n",
       "    }\n",
       "</style>\n",
       "<table border=\"1\" class=\"dataframe\">\n",
       "  <thead>\n",
       "    <tr style=\"text-align: right;\">\n",
       "      <th></th>\n",
       "      <th>res</th>\n",
       "      <th>classe</th>\n",
       "      <th>sexo</th>\n",
       "      <th>idade</th>\n",
       "      <th>irmao/conjuges</th>\n",
       "      <th>pais/filho</th>\n",
       "      <th>taxa</th>\n",
       "    </tr>\n",
       "  </thead>\n",
       "  <tbody>\n",
       "    <tr>\n",
       "      <th>0</th>\n",
       "      <td>0</td>\n",
       "      <td>3</td>\n",
       "      <td>0</td>\n",
       "      <td>22.0</td>\n",
       "      <td>1</td>\n",
       "      <td>0</td>\n",
       "      <td>7.2500</td>\n",
       "    </tr>\n",
       "    <tr>\n",
       "      <th>1</th>\n",
       "      <td>1</td>\n",
       "      <td>1</td>\n",
       "      <td>1</td>\n",
       "      <td>38.0</td>\n",
       "      <td>1</td>\n",
       "      <td>0</td>\n",
       "      <td>71.2833</td>\n",
       "    </tr>\n",
       "    <tr>\n",
       "      <th>2</th>\n",
       "      <td>1</td>\n",
       "      <td>3</td>\n",
       "      <td>1</td>\n",
       "      <td>26.0</td>\n",
       "      <td>0</td>\n",
       "      <td>0</td>\n",
       "      <td>7.9250</td>\n",
       "    </tr>\n",
       "    <tr>\n",
       "      <th>3</th>\n",
       "      <td>1</td>\n",
       "      <td>1</td>\n",
       "      <td>1</td>\n",
       "      <td>35.0</td>\n",
       "      <td>1</td>\n",
       "      <td>0</td>\n",
       "      <td>53.1000</td>\n",
       "    </tr>\n",
       "    <tr>\n",
       "      <th>4</th>\n",
       "      <td>0</td>\n",
       "      <td>3</td>\n",
       "      <td>0</td>\n",
       "      <td>35.0</td>\n",
       "      <td>0</td>\n",
       "      <td>0</td>\n",
       "      <td>8.0500</td>\n",
       "    </tr>\n",
       "  </tbody>\n",
       "</table>\n",
       "</div>"
      ],
      "text/plain": [
       "   res  classe  sexo  idade  irmao/conjuges  pais/filho     taxa\n",
       "0    0       3     0   22.0               1           0   7.2500\n",
       "1    1       1     1   38.0               1           0  71.2833\n",
       "2    1       3     1   26.0               0           0   7.9250\n",
       "3    1       1     1   35.0               1           0  53.1000\n",
       "4    0       3     0   35.0               0           0   8.0500"
      ]
     },
     "metadata": {},
     "output_type": "display_data"
    }
   ],
   "source": [
    "data = pd.read_csv('titanic.csv', delimiter=',')\n",
    "\n",
    "display(data.head())\n",
    "\n",
    "# res = O que pretendemos obter, caso a pessoa sobreviveu ou não.\n",
    "# classe = a classe na qual a pessoa embarcou.\n",
    "# sexo = 0 para masculino e 1 para feminino\n",
    "# irmao/conjuges = Quantidade de irmaos ou conjuge a bordo.\n",
    "# pais/filho = Quantidade de pais ou filhos a bordo.\n",
    "# ataxa = Valor pago pelo ticket"
   ]
  },
  {
   "cell_type": "code",
   "execution_count": 31,
   "id": "1948e72e",
   "metadata": {},
   "outputs": [
    {
     "name": "stdout",
     "output_type": "stream",
     "text": [
      "Total de pessoas a bordo:  887\n",
      "Numero de colunas:  6\n",
      "Numero de sobreviventes:  342\n",
      "Numero de mortes:  545\n",
      "Percentual de sobreviventes: 38.56%\n"
     ]
    }
   ],
   "source": [
    "# Total de dados\n",
    "total = data.shape[0]\n",
    "\n",
    "# Quantidade de colunas sem o 'res'\n",
    "features = data.shape[1]-1\n",
    "\n",
    "sobreviveu = len(data[data.res == 1])\n",
    "faleceu = len(data[data.res == 0])\n",
    "\n",
    "val = [sobreviveu, faleceu]\n",
    "\n",
    "rate = (float(sobreviveu*100)/total)\n",
    "\n",
    "print('Total de pessoas a bordo: ',total)\n",
    "print('Numero de colunas: ',features)\n",
    "print('Numero de sobreviventes: ',sobreviveu)\n",
    "print('Numero de mortes: ',faleceu)\n",
    "print('Percentual de sobreviventes: {:.2f}%'.format(rate))"
   ]
  },
  {
   "cell_type": "code",
   "execution_count": 32,
   "id": "b5d6578b",
   "metadata": {},
   "outputs": [
    {
     "data": {
      "image/png": "[encoded data removed]",
      "text/plain": [
       "<Figure size 432x288 with 1 Axes>"
      ]
     },
     "metadata": {
      "needs_background": "light"
     },
     "output_type": "display_data"
    }
   ],
   "source": [
    "# Visualizando dados\n",
    "\n",
    "x = np.arange(2)\n",
    "plt.bar(x, val)\n",
    "plt.xticks(x, ('Sobreviventes', 'Mortos'))\n",
    "plt.show()\n"
   ]
  },
  {
   "cell_type": "code",
   "execution_count": 50,
   "id": "66dae049",
   "metadata": {},
   "outputs": [
    {
     "name": "stdout",
     "output_type": "stream",
     "text": [
      "Features: \n"
     ]
    },
    {
     "data": {
      "text/html": [
       "<div>\n",
       "<style scoped>\n",
       "    .dataframe tbody tr th:only-of-type {\n",
       "        vertical-align: middle;\n",
       "    }\n",
       "\n",
       "    .dataframe tbody tr th {\n",
       "        vertical-align: top;\n",
       "    }\n",
       "\n",
       "    .dataframe thead th {\n",
       "        text-align: right;\n",
       "    }\n",
       "</style>\n",
       "<table border=\"1\" class=\"dataframe\">\n",
       "  <thead>\n",
       "    <tr style=\"text-align: right;\">\n",
       "      <th></th>\n",
       "      <th>classe</th>\n",
       "      <th>sexo</th>\n",
       "      <th>idade</th>\n",
       "      <th>irmao/conjuges</th>\n",
       "      <th>pais/filho</th>\n",
       "      <th>taxa</th>\n",
       "    </tr>\n",
       "  </thead>\n",
       "  <tbody>\n",
       "    <tr>\n",
       "      <th>0</th>\n",
       "      <td>3</td>\n",
       "      <td>0</td>\n",
       "      <td>22</td>\n",
       "      <td>1</td>\n",
       "      <td>0</td>\n",
       "      <td>7.2500</td>\n",
       "    </tr>\n",
       "    <tr>\n",
       "      <th>1</th>\n",
       "      <td>1</td>\n",
       "      <td>1</td>\n",
       "      <td>38</td>\n",
       "      <td>1</td>\n",
       "      <td>0</td>\n",
       "      <td>71.2833</td>\n",
       "    </tr>\n",
       "    <tr>\n",
       "      <th>2</th>\n",
       "      <td>3</td>\n",
       "      <td>1</td>\n",
       "      <td>26</td>\n",
       "      <td>0</td>\n",
       "      <td>0</td>\n",
       "      <td>7.9250</td>\n",
       "    </tr>\n",
       "    <tr>\n",
       "      <th>3</th>\n",
       "      <td>1</td>\n",
       "      <td>1</td>\n",
       "      <td>35</td>\n",
       "      <td>1</td>\n",
       "      <td>0</td>\n",
       "      <td>53.1000</td>\n",
       "    </tr>\n",
       "    <tr>\n",
       "      <th>4</th>\n",
       "      <td>3</td>\n",
       "      <td>0</td>\n",
       "      <td>35</td>\n",
       "      <td>0</td>\n",
       "      <td>0</td>\n",
       "      <td>8.0500</td>\n",
       "    </tr>\n",
       "  </tbody>\n",
       "</table>\n",
       "</div>"
      ],
      "text/plain": [
       "   classe  sexo  idade  irmao/conjuges  pais/filho     taxa\n",
       "0       3     0     22               1           0   7.2500\n",
       "1       1     1     38               1           0  71.2833\n",
       "2       3     1     26               0           0   7.9250\n",
       "3       1     1     35               1           0  53.1000\n",
       "4       3     0     35               0           0   8.0500"
      ]
     },
     "metadata": {},
     "output_type": "display_data"
    },
    {
     "name": "stdout",
     "output_type": "stream",
     "text": [
      "Labels\n",
      "0    0\n",
      "1    1\n",
      "2    1\n",
      "3    1\n",
      "4    0\n",
      "Name: res, dtype: int64\n"
     ]
    }
   ],
   "source": [
    "# Remover o resultado\n",
    "features = data.drop(['res'],1)\n",
    "labels = data['res']\n",
    "\n",
    "# Convertendo 'idade' para inteiro\n",
    "features['idade'] = features['idade'].apply('int64')\n",
    "\n",
    "print('Features: ')\n",
    "display(features.head())\n",
    "\n",
    "print('Labels')\n",
    "print(labels.head())"
   ]
  },
  {
   "cell_type": "code",
   "execution_count": 66,
   "id": "ae8b80a1",
   "metadata": {},
   "outputs": [
    {
     "name": "stdout",
     "output_type": "stream",
     "text": [
      "[[ 3.      0.     22.      1.      0.      7.25  ]\n",
      " [ 1.      1.     38.      1.      0.     71.2833]\n",
      " [ 3.      1.     26.      0.      0.      7.925 ]\n",
      " ...\n",
      " [ 3.      1.      7.      1.      2.     23.45  ]\n",
      " [ 1.      0.     26.      0.      0.     30.    ]\n",
      " [ 3.      0.     32.      0.      0.      7.75  ]]\n"
     ]
    }
   ],
   "source": [
    "# Obter dados no formato correto\n",
    "\n",
    "features_array = features.to_numpy()\n",
    "\n",
    "print(features_array)"
   ]
  },
  {
   "cell_type": "code",
   "execution_count": 74,
   "id": "9ccffb44",
   "metadata": {
    "scrolled": true
   },
   "outputs": [
    {
     "name": "stdout",
     "output_type": "stream",
     "text": [
      "(665, 6)\n",
      "(222, 6)\n"
     ]
    }
   ],
   "source": [
    "# Realizando treinamento\n",
    "\n",
    "X_train, X_test, y_train, y_test = train_test_split(features_array,labels)\n",
    "\n",
    "print(X_train.shape)\n",
    "print(X_test.shape)"
   ]
  },
  {
   "cell_type": "code",
   "execution_count": 75,
   "id": "c0741c34",
   "metadata": {},
   "outputs": [
    {
     "data": {
      "text/plain": [
       "KNeighborsClassifier(n_neighbors=1)"
      ]
     },
     "execution_count": 75,
     "metadata": {},
     "output_type": "execute_result"
    }
   ],
   "source": [
    "# Criando o modelo\n",
    "knn = KNeighborsClassifier(n_neighbors = 1)\n",
    "knn.fit(X_train, y_train)"
   ]
  },
  {
   "cell_type": "code",
   "execution_count": 76,
   "id": "24b56e71",
   "metadata": {},
   "outputs": [
    {
     "data": {
      "text/plain": [
       "(1, 6)"
      ]
     },
     "execution_count": 76,
     "metadata": {},
     "output_type": "execute_result"
    }
   ],
   "source": [
    "# Criando um valor de teste (2 classe, masculino, 26 anos, sem parentes e pagando 35 $)\n",
    "X_new = np.array([[2, 0, 26, 0, 0, 35.0]])\n",
    "X_new.shape"
   ]
  },
  {
   "cell_type": "code",
   "execution_count": 89,
   "id": "baa62fba",
   "metadata": {},
   "outputs": [
    {
     "data": {
      "text/plain": [
       "'Sobreviveria'"
      ]
     },
     "execution_count": 89,
     "metadata": {},
     "output_type": "execute_result"
    }
   ],
   "source": [
    "prediction = knn.predict(X_new)\n",
    "\n",
    "'Sobreviveria' if prediction[0] == 1 else 'Morreria'\n",
    "\n",
    "# A partir dos dados, foi verificado que o usuário de teste sobreviveria."
   ]
  },
  {
   "cell_type": "code",
   "execution_count": 90,
   "id": "f7446681",
   "metadata": {},
   "outputs": [
    {
     "name": "stdout",
     "output_type": "stream",
     "text": [
      "(1, 6)\n"
     ]
    },
    {
     "data": {
      "text/plain": [
       "'Morreria'"
      ]
     },
     "execution_count": 90,
     "metadata": {},
     "output_type": "execute_result"
    }
   ],
   "source": [
    "#Criando outro teste\n",
    "\n",
    "X2 = np.array([[3,1,78,2,1,78.8]])\n",
    "\n",
    "prediction = knn.predict(X2)\n",
    "\n",
    "'Sobreviveria' if prediction[0] == 1 else 'Morreria'"
   ]
  },
  {
   "cell_type": "code",
   "execution_count": 91,
   "id": "005a69c6",
   "metadata": {},
   "outputs": [
    {
     "name": "stdout",
     "output_type": "stream",
     "text": [
      "Pontuação: 0.7207\n"
     ]
    }
   ],
   "source": [
    "# Precisao do modelo (Quanto mais próximo de 1, melhor)\n",
    "rate = knn.score(X_test, y_test)\n",
    "\n",
    "print(f'Pontuação: {rate:.4f}')"
   ]
  }
 ],
 "metadata": {
  "kernelspec": {
   "display_name": "Python 3",
   "language": "python",
   "name": "python3"
  },
  "language_info": {
   "codemirror_mode": {
    "name": "ipython",
    "version": 3
   },
   "file_extension": ".py",
   "mimetype": "text/x-python",
   "name": "python",
   "nbconvert_exporter": "python",
   "pygments_lexer": "ipython3",
   "version": "3.8.10"
  }
 },
 "nbformat": 4,
 "nbformat_minor": 5
}
